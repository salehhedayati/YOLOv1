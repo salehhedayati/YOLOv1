{
 "cells": [
  {
   "cell_type": "code",
   "execution_count": 1,
   "id": "a82c751c-380e-4dc2-ac91-9dd683c61996",
   "metadata": {},
   "outputs": [
    {
     "name": "stdout",
     "output_type": "stream",
     "text": [
      "YOLOv1\n"
     ]
    }
   ],
   "source": [
    "print(\"YOLOv1\")"
   ]
  },
  {
   "cell_type": "code",
   "execution_count": null,
   "id": "437d1bc4-1be0-474f-8b9b-d81cba91849c",
   "metadata": {},
   "outputs": [],
   "source": []
  }
 ],
 "metadata": {
  "kernelspec": {
   "display_name": "Python 3 (ipykernel)",
   "language": "python",
   "name": "python3"
  },
  "language_info": {
   "codemirror_mode": {
    "name": "ipython",
    "version": 3
   },
   "file_extension": ".py",
   "mimetype": "text/x-python",
   "name": "python",
   "nbconvert_exporter": "python",
   "pygments_lexer": "ipython3",
   "version": "3.11.7"
  }
 },
 "nbformat": 4,
 "nbformat_minor": 5
}
